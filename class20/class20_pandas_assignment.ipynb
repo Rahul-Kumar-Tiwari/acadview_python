{
  "nbformat": 4,
  "nbformat_minor": 0,
  "metadata": {
    "colab": {
      "name": "Untitled0.ipynb",
      "version": "0.3.2",
      "views": {},
      "default_view": {},
      "provenance": [],
      "collapsed_sections": []
    },
    "kernelspec": {
      "name": "python3",
      "display_name": "Python 3"
    }
  },
  "cells": [
    {
      "metadata": {
        "id": "FvFJfOsuVUwT",
        "colab_type": "text"
      },
      "cell_type": "markdown",
      "source": [
        "##question1 :- Create a dataframe with your name , age , mail id and phone number and add your friends’s information to the same."
      ]
    },
    {
      "metadata": {
        "id": "ueZHcdLOVBVX",
        "colab_type": "code",
        "colab": {
          "autoexec": {
            "startup": false,
            "wait_interval": 0
          },
          "base_uri": "https://localhost:8080/",
          "height": 134
        },
        "outputId": "7b6c1233-12a1-48b9-a8cc-e7d68b7f05ee",
        "executionInfo": {
          "status": "ok",
          "timestamp": 1530860041413,
          "user_tz": -330,
          "elapsed": 1204,
          "user": {
            "displayName": "nihal gaurav",
            "photoUrl": "//lh3.googleusercontent.com/-ryaAZ4ewcPc/AAAAAAAAAAI/AAAAAAAALRY/K5yLU3tEJrw/s50-c-k-no/photo.jpg",
            "userId": "105456498906723057723"
          }
        }
      },
      "cell_type": "code",
      "source": [
        "import pandas as p\n",
        "d={\"name\":[\"nihal\",\"gaurav\",\"amit\",\"rahul\",\"radhika\",\"jyoti\"],\\\n",
        "   \"mail_id\":[\"nihal@gmail.com\",\"gaurav@gmail.com\",\"amit@gamil.com\",\"rahul@gmail.com\",\"radhika@gmail.com\",\"jyoti@gmail.com\"],\\\n",
        "   \"age\":[21,20,23,25,21,22],\\\n",
        "   \"phone\":[12345,59462,7946132,4595463,974651,9461226]}\n",
        "df=p.DataFrame(d)\n",
        "df=df[[\"name\",\"age\",\"phone\",\"mail_id\"]]\n",
        "print(df)"
      ],
      "execution_count": 10,
      "outputs": [
        {
          "output_type": "stream",
          "text": [
            "      name  age    phone            mail_id\n",
            "0    nihal   21    12345    nihal@gmail.com\n",
            "1   gaurav   20    59462   gaurav@gmail.com\n",
            "2     amit   23  7946132     amit@gamil.com\n",
            "3    rahul   25  4595463    rahul@gmail.com\n",
            "4  radhika   21   974651  radhika@gmail.com\n",
            "5    jyoti   22  9461226    jyoti@gmail.com\n"
          ],
          "name": "stdout"
        }
      ]
    },
    {
      "metadata": {
        "id": "pXBgbpSaX7NZ",
        "colab_type": "text"
      },
      "cell_type": "markdown",
      "source": [
        "##question 2  :-\n",
        "Download the dataset from this link , \n",
        "Click Here\n",
        "Import the data and print the following :\n",
        "a.) First 5 rows of Dataframe \n",
        "b.) First 10 rows of the Dataframe \n",
        "c.) find basic statistics on the particular dataset. \n",
        "d.) Find the last 5 rows of the dataframe \n",
        "e.) Extract the 2nd column and find basic statistics on it."
      ]
    },
    {
      "metadata": {
        "id": "QCEXR3XwZFsl",
        "colab_type": "code",
        "colab": {
          "autoexec": {
            "startup": false,
            "wait_interval": 0
          },
          "base_uri": "https://localhost:8080/",
          "height": 2016
        },
        "outputId": "fffe837c-5fa8-43f4-b796-4f42ddd10dd1",
        "executionInfo": {
          "status": "ok",
          "timestamp": 1530861014819,
          "user_tz": -330,
          "elapsed": 1460,
          "user": {
            "displayName": "nihal gaurav",
            "photoUrl": "//lh3.googleusercontent.com/-ryaAZ4ewcPc/AAAAAAAAAAI/AAAAAAAALRY/K5yLU3tEJrw/s50-c-k-no/photo.jpg",
            "userId": "105456498906723057723"
          }
        }
      },
      "cell_type": "code",
      "source": [
        "import pandas as p\n",
        "df=p.read_csv(\"https://raw.githubusercontent.com/Shreyas3108/Weather/master/weather.csv\")\n",
        "print(\"first five row :\\n\",df.head(5))\n",
        "print(\"first ten row :\\n\",df.head(10))\n",
        "print(df.describe())\n",
        "\n"
      ],
      "execution_count": 19,
      "outputs": [
        {
          "output_type": "stream",
          "text": [
            "first five row :\n",
            "         Date  Location  MinTemp  MaxTemp  Rainfall  Evaporation  Sunshine  \\\n",
            "0  11/1/2007  Canberra      8.0     24.3       0.0          3.4       6.3   \n",
            "1  11/2/2007  Canberra     14.0     26.9       3.6          4.4       9.7   \n",
            "2  11/3/2007  Canberra     13.7     23.4       3.6          5.8       3.3   \n",
            "3  11/4/2007  Canberra     13.3     15.5      39.8          7.2       9.1   \n",
            "4  11/5/2007  Canberra      7.6     16.1       2.8          5.6      10.6   \n",
            "\n",
            "  WindGustDir  WindGustSpeed WindDir9am      ...      Humidity3pm  \\\n",
            "0          NW           30.0         SW      ...               29   \n",
            "1         ENE           39.0          E      ...               36   \n",
            "2          NW           85.0          N      ...               69   \n",
            "3          NW           54.0        WNW      ...               56   \n",
            "4         SSE           50.0        SSE      ...               49   \n",
            "\n",
            "   Pressure9am  Pressure3pm  Cloud9am  Cloud3pm  Temp9am  Temp3pm  RainToday  \\\n",
            "0       1019.7       1015.0         7         7     14.4     23.6         No   \n",
            "1       1012.4       1008.4         5         3     17.5     25.7        Yes   \n",
            "2       1009.5       1007.2         8         7     15.4     20.2        Yes   \n",
            "3       1005.5       1007.0         2         7     13.5     14.1        Yes   \n",
            "4       1018.3       1018.5         7         7     11.1     15.4        Yes   \n",
            "\n",
            "   RISK_MM  RainTomorrow  \n",
            "0      3.6           Yes  \n",
            "1      3.6           Yes  \n",
            "2     39.8           Yes  \n",
            "3      2.8           Yes  \n",
            "4      0.0            No  \n",
            "\n",
            "[5 rows x 24 columns]\n",
            "first ten row :\n",
            "          Date  Location  MinTemp  MaxTemp  Rainfall  Evaporation  Sunshine  \\\n",
            "0   11/1/2007  Canberra      8.0     24.3       0.0          3.4       6.3   \n",
            "1   11/2/2007  Canberra     14.0     26.9       3.6          4.4       9.7   \n",
            "2   11/3/2007  Canberra     13.7     23.4       3.6          5.8       3.3   \n",
            "3   11/4/2007  Canberra     13.3     15.5      39.8          7.2       9.1   \n",
            "4   11/5/2007  Canberra      7.6     16.1       2.8          5.6      10.6   \n",
            "5   11/6/2007  Canberra      6.2     16.9       0.0          5.8       8.2   \n",
            "6   11/7/2007  Canberra      6.1     18.2       0.2          4.2       8.4   \n",
            "7   11/8/2007  Canberra      8.3     17.0       0.0          5.6       4.6   \n",
            "8   11/9/2007  Canberra      8.8     19.5       0.0          4.0       4.1   \n",
            "9  11/10/2007  Canberra      8.4     22.8      16.2          5.4       7.7   \n",
            "\n",
            "  WindGustDir  WindGustSpeed WindDir9am      ...      Humidity3pm  \\\n",
            "0          NW           30.0         SW      ...               29   \n",
            "1         ENE           39.0          E      ...               36   \n",
            "2          NW           85.0          N      ...               69   \n",
            "3          NW           54.0        WNW      ...               56   \n",
            "4         SSE           50.0        SSE      ...               49   \n",
            "5          SE           44.0         SE      ...               57   \n",
            "6          SE           43.0         SE      ...               47   \n",
            "7           E           41.0         SE      ...               57   \n",
            "8           S           48.0          E      ...               48   \n",
            "9           E           31.0          S      ...               32   \n",
            "\n",
            "   Pressure9am  Pressure3pm  Cloud9am  Cloud3pm  Temp9am  Temp3pm  RainToday  \\\n",
            "0       1019.7       1015.0         7         7     14.4     23.6         No   \n",
            "1       1012.4       1008.4         5         3     17.5     25.7        Yes   \n",
            "2       1009.5       1007.2         8         7     15.4     20.2        Yes   \n",
            "3       1005.5       1007.0         2         7     13.5     14.1        Yes   \n",
            "4       1018.3       1018.5         7         7     11.1     15.4        Yes   \n",
            "5       1023.8       1021.7         7         5     10.9     14.8         No   \n",
            "6       1024.6       1022.2         4         6     12.4     17.3         No   \n",
            "7       1026.2       1024.2         6         7     12.1     15.5         No   \n",
            "8       1026.1       1022.7         7         7     14.1     18.9         No   \n",
            "9       1024.1       1020.7         7         1     13.3     21.7        Yes   \n",
            "\n",
            "   RISK_MM  RainTomorrow  \n",
            "0      3.6           Yes  \n",
            "1      3.6           Yes  \n",
            "2     39.8           Yes  \n",
            "3      2.8           Yes  \n",
            "4      0.0            No  \n",
            "5      0.2            No  \n",
            "6      0.0            No  \n",
            "7      0.0            No  \n",
            "8     16.2           Yes  \n",
            "9      0.0            No  \n",
            "\n",
            "[10 rows x 24 columns]\n",
            "          MinTemp     MaxTemp    Rainfall  Evaporation    Sunshine  \\\n",
            "count  366.000000  366.000000  366.000000   366.000000  363.000000   \n",
            "mean     7.265574   20.550273    1.428415     4.521858    7.909366   \n",
            "std      6.025800    6.690516    4.225800     2.669383    3.481517   \n",
            "min     -5.300000    7.600000    0.000000     0.200000    0.000000   \n",
            "25%      2.300000   15.025000    0.000000     2.200000    5.950000   \n",
            "50%      7.450000   19.650000    0.000000     4.200000    8.600000   \n",
            "75%     12.500000   25.500000    0.200000     6.400000   10.500000   \n",
            "max     20.900000   35.800000   39.800000    13.800000   13.600000   \n",
            "\n",
            "       WindGustSpeed  WindSpeed9am  WindSpeed3pm  Humidity9am  Humidity3pm  \\\n",
            "count     364.000000    359.000000    366.000000   366.000000   366.000000   \n",
            "mean       39.840659      9.651811     17.986339    72.035519    44.519126   \n",
            "std        13.059807      7.951929      8.856997    13.137058    16.850947   \n",
            "min        13.000000      0.000000      0.000000    36.000000    13.000000   \n",
            "25%        31.000000      6.000000     11.000000    64.000000    32.250000   \n",
            "50%        39.000000      7.000000     17.000000    72.000000    43.000000   \n",
            "75%        46.000000     13.000000     24.000000    81.000000    55.000000   \n",
            "max        98.000000     41.000000     52.000000    99.000000    96.000000   \n",
            "\n",
            "       Pressure9am  Pressure3pm    Cloud9am    Cloud3pm     Temp9am  \\\n",
            "count   366.000000   366.000000  366.000000  366.000000  366.000000   \n",
            "mean   1019.709016  1016.810383    3.890710    4.024590   12.358470   \n",
            "std       6.686212     6.469422    2.956131    2.666268    5.630832   \n",
            "min     996.500000   996.800000    0.000000    0.000000    0.100000   \n",
            "25%    1015.350000  1012.800000    1.000000    1.000000    7.625000   \n",
            "50%    1020.150000  1017.400000    3.500000    4.000000   12.550000   \n",
            "75%    1024.475000  1021.475000    7.000000    7.000000   17.000000   \n",
            "max    1035.700000  1033.200000    8.000000    8.000000   24.700000   \n",
            "\n",
            "          Temp3pm     RISK_MM  \n",
            "count  366.000000  366.000000  \n",
            "mean    19.230874    1.428415  \n",
            "std      6.640346    4.225800  \n",
            "min      5.100000    0.000000  \n",
            "25%     14.150000    0.000000  \n",
            "50%     18.550000    0.000000  \n",
            "75%     24.000000    0.200000  \n",
            "max     34.500000   39.800000  \n"
          ],
          "name": "stdout"
        }
      ]
    }
  ]
}