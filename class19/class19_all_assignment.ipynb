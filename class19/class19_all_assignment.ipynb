{
 "cells": [
  {
   "cell_type": "markdown",
   "metadata": {
    "collapsed": true
   },
   "source": [
    "##question1:- Create a numpy array with 10 elements of the shape(10,1) using np.random and find out the mean of the elements using basic numpy functions."
   ]
  },
  {
   "cell_type": "markdown",
   "metadata": {},
   "source": [
    "##question1:- Create a numpy array with 10 elements of\n",
    "## the shape(10,1) using np.random and find out the mean of the elements using basic numpy functions."
   ]
  },
  {
   "cell_type": "code",
   "execution_count": 15,
   "metadata": {},
   "outputs": [
    {
     "name": "stdout",
     "output_type": "stream",
     "text": [
      "a=  [[36]\n [92]\n [33]\n [14]\n [18]\n [63]\n [16]\n [ 5]\n [45]\n [12]]\nmean of a=  33.4\n"
     ]
    }
   ],
   "source": [
    "import numpy as np\n",
    "a=np.random.randint(0,100,(10,1))\n",
    "print(\"a= \",a)\n",
    "print(\"mean of a= \",a.mean())"
   ]
  },
  {
   "cell_type": "markdown",
   "metadata": {},
   "source": [
    "##Question2:-Create a numpy array with 20 elements of the shape(20,1) using np. \n",
    "##random find the variance and standard deviation of the elements."
   ]
  },
  {
   "cell_type": "code",
   "execution_count": 18,
   "metadata": {},
   "outputs": [
    {
     "name": "stdout",
     "output_type": "stream",
     "text": [
      "[[50]\n [68]\n [88]\n [60]\n [86]\n [43]\n [87]\n [75]\n [29]\n [79]\n [60]\n [63]\n [30]\n [43]\n [65]\n [79]\n [75]\n [41]\n [27]\n [52]]\nvarience of a =  375.6\nstd. dev =  19.380402472601027\n"
     ]
    }
   ],
   "source": [
    "import numpy as np\n",
    "a=np.random.randint(0,100,(20,1))\n",
    "print(a)\n",
    "print(\"varience of a = \",a.var())\n",
    "print(\"std. dev = \",a.std())"
   ]
  },
  {
   "cell_type": "markdown",
   "metadata": {},
   "source": [
    " ### question 3:- Create a numpy array A of shape(10,20) and B of shape (20,25) using np.random. Print the matrix which is the matrix multiplication of A and B. The shape of the new matrix should be (10,25). Using basic numpy math functions only find the sum of all the elements of the new matrix. "
   ]
  },
  {
   "cell_type": "code",
   "execution_count": 11,
   "metadata": {},
   "outputs": [
    {
     "name": "stdout",
     "output_type": "stream",
     "text": [
      "[[40183 42485 47885 43406 49073 45516 34929 40017 51606 42643 53811 41121\n  42283 43346 54684 42892 38255 60651 45156 47165 46420 58068 59307 44395\n  54639]\n [41999 41948 52863 37827 43021 39074 33144 44539 46032 40089 51770 53199\n  36003 41074 54122 52074 36739 58745 45184 47972 46240 53834 53755 44436\n  42219]\n [44659 64388 60693 59181 53039 55636 36783 46327 53131 55718 51590 55346\n  47030 48206 64394 53681 43537 57426 51210 52772 57813 69092 70518 55774\n  64247]\n [43689 53677 55786 51174 57227 51940 30723 45703 51999 47095 50298 47324\n  55370 53381 63097 44705 44895 55273 59511 46022 49922 55190 71086 53058\n  60602]\n [42774 52193 62487 51335 55111 51053 38567 46839 57738 50948 61129 48212\n  51714 56607 68380 48106 49390 58406 53378 49588 48236 63804 68137 51554\n  56545]\n [51317 57438 60718 56864 57601 48884 39598 50380 62120 44027 66396 53223\n  45687 52455 65943 54968 44405 67059 60035 58877 49737 59500 73252 47228\n  60058]\n [43479 56403 57065 52516 48254 49629 34672 46114 52019 49612 53554 46749\n  42940 45499 58642 50609 39741 61713 44649 53580 46658 58552 61520 50605\n  59435]\n [39221 42277 41083 46543 43138 41130 21193 38021 40300 37835 38898 43111\n  35749 43156 51705 39182 31345 50298 43939 41418 36861 41262 54377 44157\n  45325]\n [42122 50234 53491 48784 47560 48837 33536 45623 54130 47349 49597 49997\n  40549 49576 58923 51615 39654 66695 44160 47756 44977 56766 59107 46908\n  52568]\n [30249 42489 39153 40860 36148 38083 21145 36052 36120 36218 33301 36219\n  32008 30763 43483 37142 27808 44076 36388 38156 41756 41229 47538 43038\n  43810]]\nsum of c=  12168256\n"
     ]
    }
   ],
   "source": [
    "import numpy as np\n",
    "a=np.random.randint(0,100,(10,20),int)\n",
    "b=np.random.randint(0,100,(20,25),int)\n",
    "c=np.matmul(a,b)\n",
    "print(c)\n",
    "print(\"sum of c= \",c.sum())"
   ]
  },
  {
   "cell_type": "markdown",
   "metadata": {},
   "source": [
    "##question 4 :- Create a numpy array A of shape(10,1),Apply this function f(x)=1 / (1 + exp(-x))  to each element of ##A and print the new array holding the value the function returns"
   ]
  },
  {
   "cell_type": "code",
   "execution_count": null,
   "metadata": {},
   "outputs": [
    {
     "name": "stdout",
     "output_type": "stream",
     "text": [
      "[[0.95257413]\n [0.88079708]\n [0.98201379]\n [0.99966465]\n [0.99752738]\n [0.99908895]\n [0.99752738]\n [0.88079708]\n [0.5       ]\n [0.99908895]]\n"
     ]
    }
   ],
   "source": [
    "import numpy as np\n",
    "a=np.random.randint(0,100,(10,1))\n",
    "def fun(x):\n",
    "    y=1/(1+np.exp(-x))\n",
    "    return y\n",
    "list=[]\n",
    "for x in a:\n",
    "    list.append(fun(x))\n",
    "b=np.array(list)\n",
    "print(b)"
   ]
  },
  {
   "cell_type": "code",
   "execution_count": null,
   "metadata": {},
   "outputs": [],
   "source": []
  }
 ],
 "metadata": {
  "kernelspec": {
   "display_name": "Python 2",
   "language": "python",
   "name": "python2"
  },
  "language_info": {
   "codemirror_mode": {
    "name": "ipython",
    "version": 2
   },
   "file_extension": ".py",
   "mimetype": "text/x-python",
   "name": "python",
   "nbconvert_exporter": "python",
   "pygments_lexer": "ipython2",
   "version": "2.7.6"
  }
 },
 "nbformat": 4,
 "nbformat_minor": 0
}
